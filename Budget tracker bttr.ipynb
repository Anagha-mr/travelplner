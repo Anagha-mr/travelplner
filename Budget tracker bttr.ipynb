{
 "cells": [
  {
   "cell_type": "code",
   "execution_count": 1,
   "id": "cdb3deab-b779-438c-a55d-2e76014e613e",
   "metadata": {},
   "outputs": [
    {
     "name": "stdout",
     "output_type": "stream",
     "text": [
      "Welcome to the Budget tracker\n"
     ]
    },
    {
     "name": "stdin",
     "output_type": "stream",
     "text": [
      "Enter the initial budget 200\n"
     ]
    },
    {
     "name": "stdout",
     "output_type": "stream",
     "text": [
      "Enter your choice:\n",
      " 1. Add your expense.\n",
      " 2. Show your expenses details.\n",
      " 3. Exit.\n",
      "\n"
     ]
    },
    {
     "name": "stdin",
     "output_type": "stream",
     "text": [
      "Enter your choice: 1\n",
      "Enter the expense description: s\n",
      "Enter expense amount: 30\n"
     ]
    },
    {
     "name": "stdout",
     "output_type": "stream",
     "text": [
      "Added expense:s, Amount:30.0\n",
      "Enter your choice:\n",
      " 1. Add your expense.\n",
      " 2. Show your expenses details.\n",
      " 3. Exit.\n",
      "\n"
     ]
    },
    {
     "name": "stdin",
     "output_type": "stream",
     "text": [
      "Enter your choice: 2\n"
     ]
    },
    {
     "name": "stdout",
     "output_type": "stream",
     "text": [
      "Total budget:200.0\n",
      "Expenses:\n",
      "s:30.0\n",
      "Total Budget spent: 30.0\n",
      "Remaining Budget: 170.0\n",
      "Enter your choice:\n",
      " 1. Add your expense.\n",
      " 2. Show your expenses details.\n",
      " 3. Exit.\n",
      "\n"
     ]
    },
    {
     "name": "stdin",
     "output_type": "stream",
     "text": [
      "Enter your choice: 3\n"
     ]
    },
    {
     "name": "stdout",
     "output_type": "stream",
     "text": [
      "Exiting.Thank you!\n"
     ]
    }
   ],
   "source": [
    "import json\n",
    "def add_exp(expenses,desc,amt):\n",
    "    expenses.append({\"Description\":desc, \"Amount\":amt})\n",
    "    print(f\"Added expense:{desc}, Amount:{amt}\")\n",
    "def show_budget(budget,expenses):\n",
    "    print(f\"Total budget:{budget}\")\n",
    "    print(\"Expenses:\")\n",
    "    for ex in expenses:\n",
    "        print(f\"{ex['Description']}:{ex['Amount']}\")\n",
    "    tsum=0\n",
    "    for ex in expenses:\n",
    "        tsum+=ex['Amount']\n",
    "    print(f\"Total Budget spent: {tsum}\")\n",
    "    balance=0\n",
    "    balance=budget-tsum\n",
    "    print(f\"Remaining Budget: {balance}\")\n",
    "\n",
    "def load_budget(filepath):\n",
    "    try:\n",
    "        with open(filepath,'r') as file:\n",
    "            data=json.load(file)\n",
    "            return data[\"initial\"],data[\"expenses\"]\n",
    "    except(FileNotFoundError, json.JSONDecodeError):\n",
    "        return 0, []\n",
    "\n",
    "def save_budget(filepath,initial,expenses):\n",
    "    data= {'initial':initial,'expenses':expenses}\n",
    "    with open(filepath, 'w') as file:\n",
    "        json.dump(data, file, indent=4)\n",
    "    \n",
    "def main():\n",
    "    print(\"Welcome to the Budget tracker\")\n",
    "    #initial=float(input(\"Enter the initial budget\"))\n",
    "    filepath= 'budget_data.json'\n",
    "    initial,expenses= load_budget(filepath)\n",
    "    if initial == 0:\n",
    "        initial=float(input(\"Enter the initial budget\"))\n",
    "    budget=initial\n",
    "    while True:\n",
    "        print(\"Enter your choice:\\n 1. Add your expense.\\n 2. Show your expenses details.\\n 3. Exit.\\n\")\n",
    "        ch=input(\"Enter your choice:\")\n",
    "        if ch==\"1\":\n",
    "            desc=input(\"Enter the expense description:\")\n",
    "            amt=float(input(\"Enter expense amount:\"))\n",
    "            add_exp(expenses,desc,amt)\n",
    "        elif ch==\"2\":\n",
    "            show_budget(budget,expenses)\n",
    "        elif ch==\"3\":\n",
    "            save_budget(filepath,initial,expenses)\n",
    "            print(\"Exiting.Thank you!\")\n",
    "            break\n",
    "        else:\n",
    "            print(\"Invalid choice.\")\n",
    "\n",
    "if __name__==\"__main__\":\n",
    "    main() \n"
   ]
  },
  {
   "cell_type": "code",
   "execution_count": null,
   "id": "5bfa312f-5bc8-42f9-9426-42b986b65370",
   "metadata": {},
   "outputs": [],
   "source": []
  }
 ],
 "metadata": {
  "kernelspec": {
   "display_name": "Python 3 (ipykernel)",
   "language": "python",
   "name": "python3"
  },
  "language_info": {
   "codemirror_mode": {
    "name": "ipython",
    "version": 3
   },
   "file_extension": ".py",
   "mimetype": "text/x-python",
   "name": "python",
   "nbconvert_exporter": "python",
   "pygments_lexer": "ipython3",
   "version": "3.12.4"
  }
 },
 "nbformat": 4,
 "nbformat_minor": 5
}
